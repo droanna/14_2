{
 "cells": [
  {
   "cell_type": "code",
   "execution_count": 1,
   "id": "8e6b93fc",
   "metadata": {},
   "outputs": [
    {
     "data": {
      "text/html": [
       "<div>\n",
       "<style scoped>\n",
       "    .dataframe tbody tr th:only-of-type {\n",
       "        vertical-align: middle;\n",
       "    }\n",
       "\n",
       "    .dataframe tbody tr th {\n",
       "        vertical-align: top;\n",
       "    }\n",
       "\n",
       "    .dataframe thead th {\n",
       "        text-align: right;\n",
       "    }\n",
       "</style>\n",
       "<table border=\"1\" class=\"dataframe\">\n",
       "  <thead>\n",
       "    <tr style=\"text-align: right;\">\n",
       "      <th></th>\n",
       "      <th>CulmenLength</th>\n",
       "      <th>CulmenDepth</th>\n",
       "      <th>FlipperLength</th>\n",
       "      <th>BodyMass</th>\n",
       "      <th>Species</th>\n",
       "    </tr>\n",
       "  </thead>\n",
       "  <tbody>\n",
       "    <tr>\n",
       "      <th>0</th>\n",
       "      <td>39.1</td>\n",
       "      <td>18.7</td>\n",
       "      <td>181.0</td>\n",
       "      <td>3750.0</td>\n",
       "      <td>0</td>\n",
       "    </tr>\n",
       "    <tr>\n",
       "      <th>1</th>\n",
       "      <td>39.5</td>\n",
       "      <td>17.4</td>\n",
       "      <td>186.0</td>\n",
       "      <td>3800.0</td>\n",
       "      <td>0</td>\n",
       "    </tr>\n",
       "    <tr>\n",
       "      <th>2</th>\n",
       "      <td>40.3</td>\n",
       "      <td>18.0</td>\n",
       "      <td>195.0</td>\n",
       "      <td>3250.0</td>\n",
       "      <td>0</td>\n",
       "    </tr>\n",
       "    <tr>\n",
       "      <th>3</th>\n",
       "      <td>NaN</td>\n",
       "      <td>NaN</td>\n",
       "      <td>NaN</td>\n",
       "      <td>NaN</td>\n",
       "      <td>0</td>\n",
       "    </tr>\n",
       "    <tr>\n",
       "      <th>4</th>\n",
       "      <td>36.7</td>\n",
       "      <td>19.3</td>\n",
       "      <td>193.0</td>\n",
       "      <td>3450.0</td>\n",
       "      <td>0</td>\n",
       "    </tr>\n",
       "  </tbody>\n",
       "</table>\n",
       "</div>"
      ],
      "text/plain": [
       "   CulmenLength  CulmenDepth  FlipperLength  BodyMass  Species\n",
       "0          39.1         18.7          181.0    3750.0        0\n",
       "1          39.5         17.4          186.0    3800.0        0\n",
       "2          40.3         18.0          195.0    3250.0        0\n",
       "3           NaN          NaN            NaN       NaN        0\n",
       "4          36.7         19.3          193.0    3450.0        0"
      ]
     },
     "execution_count": 1,
     "metadata": {},
     "output_type": "execute_result"
    }
   ],
   "source": [
    "import pandas as pd\n",
    "\n",
    "df = pd.read_csv('penguins.csv')\n",
    "df.head()"
   ]
  },
  {
   "cell_type": "code",
   "execution_count": 2,
   "id": "f7cfd699",
   "metadata": {},
   "outputs": [
    {
     "data": {
      "text/html": [
       "<div>\n",
       "<style scoped>\n",
       "    .dataframe tbody tr th:only-of-type {\n",
       "        vertical-align: middle;\n",
       "    }\n",
       "\n",
       "    .dataframe tbody tr th {\n",
       "        vertical-align: top;\n",
       "    }\n",
       "\n",
       "    .dataframe thead th {\n",
       "        text-align: right;\n",
       "    }\n",
       "</style>\n",
       "<table border=\"1\" class=\"dataframe\">\n",
       "  <thead>\n",
       "    <tr style=\"text-align: right;\">\n",
       "      <th></th>\n",
       "      <th>CulmenLength</th>\n",
       "      <th>CulmenDepth</th>\n",
       "      <th>FlipperLength</th>\n",
       "      <th>BodyMass</th>\n",
       "      <th>Species</th>\n",
       "    </tr>\n",
       "  </thead>\n",
       "  <tbody>\n",
       "    <tr>\n",
       "      <th>count</th>\n",
       "      <td>342.000000</td>\n",
       "      <td>342.000000</td>\n",
       "      <td>342.000000</td>\n",
       "      <td>342.000000</td>\n",
       "      <td>344.000000</td>\n",
       "    </tr>\n",
       "    <tr>\n",
       "      <th>mean</th>\n",
       "      <td>43.921930</td>\n",
       "      <td>17.151170</td>\n",
       "      <td>200.915205</td>\n",
       "      <td>4201.754386</td>\n",
       "      <td>0.755814</td>\n",
       "    </tr>\n",
       "    <tr>\n",
       "      <th>std</th>\n",
       "      <td>5.459584</td>\n",
       "      <td>1.974793</td>\n",
       "      <td>14.061714</td>\n",
       "      <td>801.954536</td>\n",
       "      <td>0.762626</td>\n",
       "    </tr>\n",
       "    <tr>\n",
       "      <th>min</th>\n",
       "      <td>32.100000</td>\n",
       "      <td>13.100000</td>\n",
       "      <td>172.000000</td>\n",
       "      <td>2700.000000</td>\n",
       "      <td>0.000000</td>\n",
       "    </tr>\n",
       "    <tr>\n",
       "      <th>25%</th>\n",
       "      <td>39.225000</td>\n",
       "      <td>15.600000</td>\n",
       "      <td>190.000000</td>\n",
       "      <td>3550.000000</td>\n",
       "      <td>0.000000</td>\n",
       "    </tr>\n",
       "    <tr>\n",
       "      <th>50%</th>\n",
       "      <td>44.450000</td>\n",
       "      <td>17.300000</td>\n",
       "      <td>197.000000</td>\n",
       "      <td>4050.000000</td>\n",
       "      <td>1.000000</td>\n",
       "    </tr>\n",
       "    <tr>\n",
       "      <th>75%</th>\n",
       "      <td>48.500000</td>\n",
       "      <td>18.700000</td>\n",
       "      <td>213.000000</td>\n",
       "      <td>4750.000000</td>\n",
       "      <td>1.000000</td>\n",
       "    </tr>\n",
       "    <tr>\n",
       "      <th>max</th>\n",
       "      <td>59.600000</td>\n",
       "      <td>21.500000</td>\n",
       "      <td>231.000000</td>\n",
       "      <td>6300.000000</td>\n",
       "      <td>2.000000</td>\n",
       "    </tr>\n",
       "  </tbody>\n",
       "</table>\n",
       "</div>"
      ],
      "text/plain": [
       "       CulmenLength  CulmenDepth  FlipperLength     BodyMass     Species\n",
       "count    342.000000   342.000000     342.000000   342.000000  344.000000\n",
       "mean      43.921930    17.151170     200.915205  4201.754386    0.755814\n",
       "std        5.459584     1.974793      14.061714   801.954536    0.762626\n",
       "min       32.100000    13.100000     172.000000  2700.000000    0.000000\n",
       "25%       39.225000    15.600000     190.000000  3550.000000    0.000000\n",
       "50%       44.450000    17.300000     197.000000  4050.000000    1.000000\n",
       "75%       48.500000    18.700000     213.000000  4750.000000    1.000000\n",
       "max       59.600000    21.500000     231.000000  6300.000000    2.000000"
      ]
     },
     "execution_count": 2,
     "metadata": {},
     "output_type": "execute_result"
    }
   ],
   "source": [
    "df.describe()"
   ]
  },
  {
   "cell_type": "code",
   "execution_count": 3,
   "id": "468e79af",
   "metadata": {},
   "outputs": [
    {
     "name": "stdout",
     "output_type": "stream",
     "text": [
      "     CulmenLength  CulmenDepth  FlipperLength  BodyMass  Species\n",
      "3             NaN          NaN            NaN       NaN        0\n",
      "271           NaN          NaN            NaN       NaN        1\n"
     ]
    }
   ],
   "source": [
    "missing_rows = df[df.isnull().any(axis=1)]\n",
    "print(missing_rows)"
   ]
  },
  {
   "cell_type": "code",
   "execution_count": 4,
   "id": "d2a859a8",
   "metadata": {},
   "outputs": [
    {
     "data": {
      "text/html": [
       "<div>\n",
       "<style scoped>\n",
       "    .dataframe tbody tr th:only-of-type {\n",
       "        vertical-align: middle;\n",
       "    }\n",
       "\n",
       "    .dataframe tbody tr th {\n",
       "        vertical-align: top;\n",
       "    }\n",
       "\n",
       "    .dataframe thead th {\n",
       "        text-align: right;\n",
       "    }\n",
       "</style>\n",
       "<table border=\"1\" class=\"dataframe\">\n",
       "  <thead>\n",
       "    <tr style=\"text-align: right;\">\n",
       "      <th></th>\n",
       "      <th>CulmenLength</th>\n",
       "      <th>CulmenDepth</th>\n",
       "      <th>FlipperLength</th>\n",
       "      <th>BodyMass</th>\n",
       "      <th>Species</th>\n",
       "    </tr>\n",
       "  </thead>\n",
       "  <tbody>\n",
       "    <tr>\n",
       "      <th>count</th>\n",
       "      <td>342.000000</td>\n",
       "      <td>342.000000</td>\n",
       "      <td>342.000000</td>\n",
       "      <td>342.000000</td>\n",
       "      <td>342.000000</td>\n",
       "    </tr>\n",
       "    <tr>\n",
       "      <th>mean</th>\n",
       "      <td>43.921930</td>\n",
       "      <td>17.151170</td>\n",
       "      <td>200.915205</td>\n",
       "      <td>4201.754386</td>\n",
       "      <td>0.757310</td>\n",
       "    </tr>\n",
       "    <tr>\n",
       "      <th>std</th>\n",
       "      <td>5.459584</td>\n",
       "      <td>1.974793</td>\n",
       "      <td>14.061714</td>\n",
       "      <td>801.954536</td>\n",
       "      <td>0.763648</td>\n",
       "    </tr>\n",
       "    <tr>\n",
       "      <th>min</th>\n",
       "      <td>32.100000</td>\n",
       "      <td>13.100000</td>\n",
       "      <td>172.000000</td>\n",
       "      <td>2700.000000</td>\n",
       "      <td>0.000000</td>\n",
       "    </tr>\n",
       "    <tr>\n",
       "      <th>25%</th>\n",
       "      <td>39.225000</td>\n",
       "      <td>15.600000</td>\n",
       "      <td>190.000000</td>\n",
       "      <td>3550.000000</td>\n",
       "      <td>0.000000</td>\n",
       "    </tr>\n",
       "    <tr>\n",
       "      <th>50%</th>\n",
       "      <td>44.450000</td>\n",
       "      <td>17.300000</td>\n",
       "      <td>197.000000</td>\n",
       "      <td>4050.000000</td>\n",
       "      <td>1.000000</td>\n",
       "    </tr>\n",
       "    <tr>\n",
       "      <th>75%</th>\n",
       "      <td>48.500000</td>\n",
       "      <td>18.700000</td>\n",
       "      <td>213.000000</td>\n",
       "      <td>4750.000000</td>\n",
       "      <td>1.000000</td>\n",
       "    </tr>\n",
       "    <tr>\n",
       "      <th>max</th>\n",
       "      <td>59.600000</td>\n",
       "      <td>21.500000</td>\n",
       "      <td>231.000000</td>\n",
       "      <td>6300.000000</td>\n",
       "      <td>2.000000</td>\n",
       "    </tr>\n",
       "  </tbody>\n",
       "</table>\n",
       "</div>"
      ],
      "text/plain": [
       "       CulmenLength  CulmenDepth  FlipperLength     BodyMass     Species\n",
       "count    342.000000   342.000000     342.000000   342.000000  342.000000\n",
       "mean      43.921930    17.151170     200.915205  4201.754386    0.757310\n",
       "std        5.459584     1.974793      14.061714   801.954536    0.763648\n",
       "min       32.100000    13.100000     172.000000  2700.000000    0.000000\n",
       "25%       39.225000    15.600000     190.000000  3550.000000    0.000000\n",
       "50%       44.450000    17.300000     197.000000  4050.000000    1.000000\n",
       "75%       48.500000    18.700000     213.000000  4750.000000    1.000000\n",
       "max       59.600000    21.500000     231.000000  6300.000000    2.000000"
      ]
     },
     "execution_count": 4,
     "metadata": {},
     "output_type": "execute_result"
    }
   ],
   "source": [
    "df.dropna(inplace=True)\n",
    "df.describe()"
   ]
  },
  {
   "cell_type": "code",
   "execution_count": 5,
   "id": "56978f9a",
   "metadata": {},
   "outputs": [
    {
     "name": "stdout",
     "output_type": "stream",
     "text": [
      "<class 'pandas.core.frame.DataFrame'>\n",
      "Index: 342 entries, 0 to 343\n",
      "Data columns (total 5 columns):\n",
      " #   Column         Non-Null Count  Dtype  \n",
      "---  ------         --------------  -----  \n",
      " 0   CulmenLength   342 non-null    float64\n",
      " 1   CulmenDepth    342 non-null    float64\n",
      " 2   FlipperLength  342 non-null    float64\n",
      " 3   BodyMass       342 non-null    float64\n",
      " 4   Species        342 non-null    int64  \n",
      "dtypes: float64(4), int64(1)\n",
      "memory usage: 16.0 KB\n"
     ]
    }
   ],
   "source": [
    "df.info()"
   ]
  },
  {
   "cell_type": "code",
   "execution_count": 6,
   "id": "efa4d320",
   "metadata": {},
   "outputs": [],
   "source": [
    "features = ['CulmenLength', 'CulmenDepth', 'FlipperLength', 'BodyMass']\n",
    "target = 'Species'\n",
    "X, y = df[features], df[target]"
   ]
  },
  {
   "cell_type": "code",
   "execution_count": 7,
   "id": "9f697301",
   "metadata": {},
   "outputs": [
    {
     "data": {
      "text/plain": [
       "Species\n",
       "0    0.441520\n",
       "1    0.359649\n",
       "2    0.198830\n",
       "Name: proportion, dtype: float64"
      ]
     },
     "execution_count": 7,
     "metadata": {},
     "output_type": "execute_result"
    }
   ],
   "source": [
    "pd.Series(y).value_counts(normalize=True)"
   ]
  },
  {
   "cell_type": "markdown",
   "id": "e05a57b8",
   "metadata": {},
   "source": [
    "Gatunki 0 i 1 są dosyć zbliżone ilościowo, jednak znacznie mniej jest danych nt. gatunku 2."
   ]
  },
  {
   "cell_type": "code",
   "execution_count": 8,
   "id": "889c5a0f",
   "metadata": {},
   "outputs": [
    {
     "data": {
      "image/png": "[encoded data removed]",
      "text/plain": [
       "<Figure size 1600x400 with 4 Axes>"
      ]
     },
     "metadata": {},
     "output_type": "display_data"
    }
   ],
   "source": [
    "import matplotlib.pyplot as plt\n",
    "import seaborn as sns\n",
    "\n",
    "df_melt = pd.melt(df, id_vars='Species', value_vars=features, var_name='Feature', value_name='Value')\n",
    "\n",
    "facet_grid = sns.FacetGrid(df_melt, col='Feature', col_wrap=4, height=4, sharey=False)\n",
    "\n",
    "facet_grid.map_dataframe(sns.boxplot, x='Species', y='Value')\n",
    "\n",
    "facet_grid.set_titles(col_template=\"{col_name}\")\n",
    "facet_grid.set_axis_labels(\"Species\", \"Value\")\n",
    "\n",
    "plt.tight_layout()\n",
    "plt.show()"
   ]
  },
  {
   "cell_type": "code",
   "execution_count": 9,
   "id": "aea57400",
   "metadata": {},
   "outputs": [
    {
     "data": {
      "image/png": "[encoded data removed]",
      "text/plain": [
       "<Figure size 700x700 with 2 Axes>"
      ]
     },
     "metadata": {},
     "output_type": "display_data"
    }
   ],
   "source": [
    "import seaborn as sns\n",
    "\n",
    "plt.figure(figsize=(7, 7))\n",
    "ax = sns.heatmap(X.corr(),\n",
    "                 xticklabels=X.corr().columns,\n",
    "                 yticklabels=X.corr().columns,\n",
    "                 cmap='RdYlGn',\n",
    "                 center=0,\n",
    "                 annot=True)\n",
    "\n",
    "plt.title('Korelacja dla zmiennych numerycznych', fontsize=14)\n",
    "bottom, top = ax.get_ylim()\n",
    "plt.xticks(fontsize=10)\n",
    "plt.yticks(fontsize=10)\n",
    "plt.show()"
   ]
  },
  {
   "cell_type": "markdown",
   "id": "0570c3d5",
   "metadata": {},
   "source": [
    "Z matrycy korelacji wychodzi, że zmienne np. długość płetwy i masa ciała są ze sobą mocno skorelowane, jednak biorąc pod uwagę jak odmienne są to w rzeczywistości cechy postanowiono zostawić do dalszej analizy wszystkie cechy, tym bardziej, że jest ich mało."
   ]
  },
  {
   "cell_type": "code",
   "execution_count": 10,
   "id": "5eda98f2",
   "metadata": {},
   "outputs": [
    {
     "data": {
      "text/plain": [
       "CulmenLength     0.779857\n",
       "FlipperLength    0.357472\n",
       "BodyMass         0.209717\n",
       "CulmenDepth     -0.183090\n",
       "dtype: float64"
      ]
     },
     "execution_count": 10,
     "metadata": {},
     "output_type": "execute_result"
    }
   ],
   "source": [
    "from scipy import stats\n",
    "\n",
    "corr_dict = {}\n",
    "for col in features:\n",
    "    corr_dict[col] = stats.pointbiserialr(X[col], y)[0]\n",
    "pd.Series(corr_dict).sort_values(ascending=False)"
   ]
  },
  {
   "cell_type": "markdown",
   "id": "3db967b2",
   "metadata": {},
   "source": [
    "Przynależność do danego gatunku najbardziej zależna jest od długości dzioba, co widać na boxplotach, na tej podstawie teoretycznie można by rozdzielić wszystkie 3 gatunki, natomiast inne cechy również dają jasne różnice, ale w przypadku np. jednego gatunku, a nie wszystkich trzech. Warto wziąć wszystkie pod uwagę."
   ]
  },
  {
   "cell_type": "code",
   "execution_count": 11,
   "id": "42374368",
   "metadata": {},
   "outputs": [
    {
     "name": "stdout",
     "output_type": "stream",
     "text": [
      "Treningowe obserwacje: 273\n",
      "Testowe obserwacje: 69\n",
      "Treningowe obserwacje po oversamplingu: 363\n"
     ]
    }
   ],
   "source": [
    "from sklearn.model_selection import train_test_split\n",
    "from imblearn.over_sampling import SMOTE\n",
    "\n",
    "\n",
    "X_train, X_test, y_train, y_test = train_test_split(X, y, test_size=0.2, random_state=0, stratify=y)\n",
    "print ('Treningowe obserwacje: %d\\nTestowe obserwacje: %d' % (X_train.shape[0], X_test.shape[0]))\n",
    "\n",
    "smote = SMOTE()\n",
    "X_res, y_res = smote.fit_resample(X_train, y_train)\n",
    "print ('Treningowe obserwacje po oversamplingu: %d' % (X_res.shape[0]))"
   ]
  },
  {
   "cell_type": "code",
   "execution_count": 12,
   "id": "11df5733",
   "metadata": {},
   "outputs": [],
   "source": [
    "from sklearn.linear_model import LogisticRegression\n",
    "from sklearn.preprocessing import StandardScaler\n",
    "\n",
    "scaler_2var = StandardScaler()\n",
    "X_res_standardized = scaler_2var.fit_transform(X_res)\n",
    "X_test_standardized = scaler_2var.transform(X_test)"
   ]
  },
  {
   "cell_type": "code",
   "execution_count": 13,
   "id": "b275dba2",
   "metadata": {},
   "outputs": [],
   "source": [
    "models = []\n",
    "evaluations = pd.DataFrame(columns=['model_name', 'accuracy', 'precision', 'recall', 'f1-score-train', 'f1_score', 'auc_metric'])"
   ]
  },
  {
   "cell_type": "code",
   "execution_count": 14,
   "id": "cc85a955",
   "metadata": {},
   "outputs": [],
   "source": [
    "from sklearn.metrics import roc_auc_score\n",
    "from sklearn.metrics import f1_score, accuracy_score, precision_score, recall_score\n",
    "\n",
    "\n",
    "def evaluate_model(model, name, standardized):\n",
    "    X_to_evaluate = X_res\n",
    "    X_test_to_evaluate = X_test\n",
    "    if(standardized):\n",
    "        X_to_evaluate = X_res_standardized\n",
    "        X_test_to_evaluate = X_test_standardized\n",
    "    predictions = model.predict(X_to_evaluate)\n",
    "    predictions_proba = model.predict_proba(X_test_to_evaluate)\n",
    "    y_test_pred = model.predict(X_test_to_evaluate)\n",
    "    accuracy = accuracy_score(y_test, y_test_pred)\n",
    "    precision = precision_score(y_test, y_test_pred, average='weighted')\n",
    "    recall = recall_score(y_test, y_test_pred, average='weighted')\n",
    "    f1_metric = f1_score(y_res, predictions, average='weighted')\n",
    "    f1_metric_test = f1_score(y_test, y_test_pred, average='weighted')\n",
    "    auc_metric = roc_auc_score(y_test, predictions_proba, multi_class='ovr', average='weighted')\n",
    "    evaluations.loc[len(evaluations)] = {'model_name': name, 'accuracy' : accuracy, 'precision': precision, 'recall': recall, 'f1-score-train': f1_metric, 'f1_score' : f1_metric_test, 'auc_metric' : auc_metric}"
   ]
  },
  {
   "cell_type": "code",
   "execution_count": 15,
   "id": "352e74e5",
   "metadata": {},
   "outputs": [],
   "source": [
    "model_lr = LogisticRegression()\n",
    "model_lr.fit(X_res_standardized, y_res)\n",
    "models.append({'model' : model_lr, 'name' :'Logistic Regression', 'standardized' : True})"
   ]
  },
  {
   "cell_type": "code",
   "execution_count": 16,
   "id": "7fcce256",
   "metadata": {},
   "outputs": [],
   "source": [
    "from sklearn.neighbors import KNeighborsClassifier\n",
    "import math\n",
    "\n",
    "model_knn = KNeighborsClassifier(n_neighbors= 5)\n",
    "model_knn.fit(X_res_standardized, y_res)\n",
    "models.append({'model' : model_knn, 'name' :'KNeighborsClassifier', 'standardized' : True})"
   ]
  },
  {
   "cell_type": "code",
   "execution_count": 17,
   "id": "bd258a9e",
   "metadata": {},
   "outputs": [],
   "source": [
    "from sklearn.tree import DecisionTreeClassifier\n",
    "\n",
    "model_tree = DecisionTreeClassifier(max_depth=3, min_samples_leaf=5)\n",
    "model_tree.fit(X_res, y_res)\n",
    "models.append({'model' : model_tree, 'name' :'DecisionTreeClassifier', 'standardized' : False})"
   ]
  },
  {
   "cell_type": "code",
   "execution_count": 18,
   "id": "6058e44a",
   "metadata": {},
   "outputs": [],
   "source": [
    "from sklearn.svm import SVC\n",
    "\n",
    "model_svm = SVC(kernel='rbf', probability=True)\n",
    "model_svm.fit(X_res_standardized, y_res)\n",
    "models.append({'model' : model_svm, 'name' :'SVM', 'standardized' : True})"
   ]
  },
  {
   "cell_type": "code",
   "execution_count": 19,
   "id": "2b28d5a7",
   "metadata": {},
   "outputs": [],
   "source": [
    "from sklearn.ensemble import RandomForestClassifier\n",
    "\n",
    "model_forest = RandomForestClassifier(n_estimators=1000, max_depth=3, min_samples_leaf=int(math.sqrt(X_res_standardized.shape[0])))\n",
    "model_forest.fit(X_res, y_res)\n",
    "models.append({'model' : model_forest, 'name' :'RandomForestClassifier', 'standardized' : False})"
   ]
  },
  {
   "cell_type": "code",
   "execution_count": 20,
   "id": "4e1ae649",
   "metadata": {},
   "outputs": [],
   "source": [
    "from sklearn.ensemble import AdaBoostClassifier\n",
    "\n",
    "model_adaboost = AdaBoostClassifier(estimator=DecisionTreeClassifier(max_depth=1), n_estimators=40)\n",
    "model_adaboost.fit(X_res, y_res)\n",
    "models.append({'model' : model_adaboost, 'name' :'AdaBoostClassifier', 'standardized' : False})"
   ]
  },
  {
   "cell_type": "code",
   "execution_count": 21,
   "id": "35b0b8b8",
   "metadata": {},
   "outputs": [],
   "source": [
    "from sklearn.ensemble import VotingClassifier\n",
    "\n",
    "model_voting = VotingClassifier(estimators=[('Tree', model_tree),\n",
    "                                            ('Random Forest', model_forest),\n",
    "                                            ('AdaBoost', model_adaboost)],\n",
    "                                voting='soft')\n",
    "\n",
    "model_voting.fit(X_res, y_res)\n",
    "models.append({'model' : model_voting, 'name' :'VotingClassifier', 'standardized' : False})"
   ]
  },
  {
   "cell_type": "code",
   "execution_count": 22,
   "id": "807f435f",
   "metadata": {},
   "outputs": [
    {
     "name": "stdout",
     "output_type": "stream",
     "text": [
      "               model_name  accuracy  precision    recall  f1-score-train  \\\n",
      "0     Logistic Regression  0.971014   0.971014  0.971014        0.997245   \n",
      "1    KNeighborsClassifier  0.971014   0.971014  0.971014        1.000000   \n",
      "2  DecisionTreeClassifier  0.942029   0.942331  0.942029        0.972561   \n",
      "3                     SVM  0.971014   0.971014  0.971014        0.991734   \n",
      "4  RandomForestClassifier  0.956522   0.956342  0.956522        0.972406   \n",
      "5      AdaBoostClassifier  0.956522   0.956342  0.956522        0.994490   \n",
      "6        VotingClassifier  0.942029   0.942331  0.942029        0.978006   \n",
      "\n",
      "   f1_score  auc_metric  \n",
      "0  0.971014    0.998730  \n",
      "1  0.971014    0.998412  \n",
      "2  0.940734    0.981146  \n",
      "3  0.971014    0.996561  \n",
      "4  0.956073    0.991372  \n",
      "5  0.956073    0.984034  \n",
      "6  0.940734    0.991122  \n"
     ]
    }
   ],
   "source": [
    "for m in models:\n",
    "    evaluate_model(m['model'], m['name'], m['standardized'])\n",
    "pd.set_option('display.max_colwidth', None)\n",
    "pd.set_option('display.max_rows', None)\n",
    "print(evaluations)"
   ]
  },
  {
   "cell_type": "markdown",
   "id": "3f1eaa5a",
   "metadata": {},
   "source": [
    "Najlepiej z klasyfikacją poradziły sobie modele SVM oraz KNeighborsClassifier."
   ]
  },
  {
   "cell_type": "code",
   "execution_count": null,
   "id": "ce346115",
   "metadata": {},
   "outputs": [],
   "source": [
    "from sklearn.metrics import confusion_matrix\n",
    "import seaborn as sns\n",
    "import matplotlib.pyplot as plt\n",
    "\n",
    "def print_confusion_matrix(cm, title):\n",
    "    plt.figure(figsize=(4, 3))\n",
    "    sns.heatmap(cm, annot=True, fmt='d', cmap='Blues', xticklabels=y.unique(), yticklabels=y.unique())\n",
    "\n",
    "    plt.title(title)\n",
    "    plt.xlabel('Przewidziane')\n",
    "    plt.ylabel('Prawdziwe')\n",
    "\n",
    "    plt.show()"
   ]
  },
  {
   "cell_type": "code",
   "execution_count": null,
   "id": "e3cb064a",
   "metadata": {},
   "outputs": [],
   "source": [
    "cm = confusion_matrix(y_test, model_lr.predict(X_test_standardized))\n",
    "print_confusion_matrix(cm, 'Macierz pomyłek dla Regresji logistycznej')"
   ]
  },
  {
   "cell_type": "code",
   "execution_count": 24,
   "id": "f081d415",
   "metadata": {},
   "outputs": [
    {
     "data": {
      "image/png": "[encoded data removed]",
      "text/plain": [
       "<Figure size 600x500 with 2 Axes>"
      ]
     },
     "metadata": {},
     "output_type": "display_data"
    }
   ],
   "source": [
    "cm = confusion_matrix(y_test, model_svm.predict(X_test_standardized))\n",
    "print_confusion_matrix(cm, 'Macierz pomyłek dla SVM')"
   ]
  },
  {
   "cell_type": "code",
   "execution_count": 25,
   "id": "38d54018",
   "metadata": {},
   "outputs": [
    {
     "data": {
      "image/png": "[encoded data removed]",
      "text/plain": [
       "<Figure size 600x500 with 2 Axes>"
      ]
     },
     "metadata": {},
     "output_type": "display_data"
    }
   ],
   "source": [
    "cm = confusion_matrix(y_test, model_knn.predict(X_test_standardized))\n",
    "print_confusion_matrix(cm, 'Macierz pomyłek dla KNeighborsClassifier')"
   ]
  },
  {
   "cell_type": "markdown",
   "id": "8fa1e383",
   "metadata": {},
   "source": [
    "Modele pomyliły się w dwóch przypadkach, co jest dobrym wynikiem, jednak należy pamiętać, że pula danych również nie była duża."
   ]
  }
 ],
 "metadata": {
  "kernelspec": {
   "display_name": "Python 3",
   "language": "python",
   "name": "python3"
  },
  "language_info": {
   "codemirror_mode": {
    "name": "ipython",
    "version": 3
   },
   "file_extension": ".py",
   "mimetype": "text/x-python",
   "name": "python",
   "nbconvert_exporter": "python",
   "pygments_lexer": "ipython3",
   "version": "3.12.1"
  }
 },
 "nbformat": 4,
 "nbformat_minor": 5
}
